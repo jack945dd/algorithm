{
  "nbformat": 4,
  "nbformat_minor": 0,
  "metadata": {
    "colab": {
      "name": "1202.ipynb",
      "provenance": [],
      "authorship_tag": "ABX9TyMvZqVFAxQHraEdcIXMhWvM",
      "include_colab_link": true
    },
    "kernelspec": {
      "name": "python3",
      "display_name": "Python 3"
    }
  },
  "cells": [
    {
      "cell_type": "markdown",
      "metadata": {
        "id": "view-in-github",
        "colab_type": "text"
      },
      "source": [
        "<a href=\"https://colab.research.google.com/github/jack945dd/algorithm/blob/master/1202.ipynb\" target=\"_parent\"><img src=\"https://colab.research.google.com/assets/colab-badge.svg\" alt=\"Open In Colab\"/></a>"
      ]
    },
    {
      "cell_type": "code",
      "metadata": {
        "colab": {
          "base_uri": "https://localhost:8080/"
        },
        "id": "cuEO3MjaI_4H",
        "outputId": "6b5bdaf2-411f-4c13-bfbc-9ee0639f0d91"
      },
      "source": [
        "t = [25,20,5,1]\n",
        "\n",
        "def change(t,n):\n",
        "\n",
        "  m = [0 for _ in range(len(t))]\n",
        "  for i,money in enumerate(t):\n",
        "    m[i] = n // money\n",
        "    n = n%money\n",
        "    print(\"第\",i+1,\"步：使用\",'{:>2}'.format(money),\"進行支付\",m,\"剩餘\",n,\"元\")\n",
        "k=int(input(\"要付多少錢？\"))\n",
        "change(t,k)"
      ],
      "execution_count": 33,
      "outputs": [
        {
          "output_type": "stream",
          "text": [
            "要付多少錢？96\n",
            "第 1 步：使用 25 進行支付 [3, 0, 0, 0] 剩餘 21 元\n",
            "第 2 步：使用 20 進行支付 [3, 1, 0, 0] 剩餘 1 元\n",
            "第 3 步：使用  5 進行支付 [3, 1, 0, 0] 剩餘 1 元\n",
            "第 4 步：使用  1 進行支付 [3, 1, 0, 1] 剩餘 0 元\n"
          ],
          "name": "stdout"
        }
      ]
    }
  ]
}