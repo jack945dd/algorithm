{
  "nbformat": 4,
  "nbformat_minor": 0,
  "metadata": {
    "colab": {
      "name": "1202.ipynb",
      "provenance": [],
      "authorship_tag": "ABX9TyM5qlTPQ4eOepyk74AOVna3",
      "include_colab_link": true
    },
    "kernelspec": {
      "name": "python3",
      "display_name": "Python 3"
    }
  },
  "cells": [
    {
      "cell_type": "markdown",
      "metadata": {
        "id": "view-in-github",
        "colab_type": "text"
      },
      "source": [
        "<a href=\"https://colab.research.google.com/github/jack945dd/algorithm/blob/master/1202.ipynb\" target=\"_parent\"><img src=\"https://colab.research.google.com/assets/colab-badge.svg\" alt=\"Open In Colab\"/></a>"
      ]
    },
    {
      "cell_type": "markdown",
      "metadata": {
        "id": "iopTWgTcUFIi"
      },
      "source": [
        "**硬幣問題：貪婪法**"
      ]
    },
    {
      "cell_type": "code",
      "metadata": {
        "colab": {
          "base_uri": "https://localhost:8080/"
        },
        "id": "cuEO3MjaI_4H",
        "outputId": "6b5bdaf2-411f-4c13-bfbc-9ee0639f0d91"
      },
      "source": [
        "t = [25,20,5,1]\n",
        "\n",
        "def change(t,n):\n",
        "\n",
        "  m = [0 for _ in range(len(t))]\n",
        "  for i,money in enumerate(t):\n",
        "    m[i] = n // money\n",
        "    n = n%money\n",
        "    print(\"第\",i+1,\"步：使用\",'{:>2}'.format(money),\"進行支付\",m,\"剩餘\",n,\"元\")\n",
        "k=int(input(\"要付多少錢？\"))\n",
        "change(t,k)"
      ],
      "execution_count": null,
      "outputs": [
        {
          "output_type": "stream",
          "text": [
            "要付多少錢？96\n",
            "第 1 步：使用 25 進行支付 [3, 0, 0, 0] 剩餘 21 元\n",
            "第 2 步：使用 20 進行支付 [3, 1, 0, 0] 剩餘 1 元\n",
            "第 3 步：使用  5 進行支付 [3, 1, 0, 0] 剩餘 1 元\n",
            "第 4 步：使用  1 進行支付 [3, 1, 0, 1] 剩餘 0 元\n"
          ],
          "name": "stdout"
        }
      ]
    },
    {
      "cell_type": "markdown",
      "metadata": {
        "id": "c6l_Ty-VUKpI"
      },
      "source": [
        "**硬幣問題：DP**"
      ]
    },
    {
      "cell_type": "code",
      "metadata": {
        "colab": {
          "base_uri": "https://localhost:8080/"
        },
        "id": "j-3h5OB4UYZo",
        "outputId": "e7d70171-bbd7-4613-c749-5314237e10f1"
      },
      "source": [
        "def coin_change(coins,change,dp,coins_used):\n",
        "\t'''利用動態規劃求解找零需要的錢幣張數，以及錢幣的使用情況'''\n",
        "\tfor i in range(1,change+1):\n",
        "\t\t#依次求解，dp[1]~dp[change]\n",
        "\t\tfor j in range(len(coins)):\n",
        "\t\t\tif coins[j]<=i:\n",
        "\t\t\t\t#使用這張錢幣的前提，紙幣的金額數<=需要找零的金額，比如：找零10塊，不能使用25塊的錢幣\n",
        "\t\t\t\tif dp[i-coins[j]]+1<dp[i]:\n",
        "\t\t\t\t\t#dp[i]=min(dp[i],dp[i-coins[j]]+1)\n",
        "\t\t\t\t\tdp[i]=dp[i-coins[j]]+1\n",
        "\t\t\t\t\t#記錄使用的錢幣\n",
        "\t\t\t\t\tnew_coin=coins[j]\n",
        "\t\tcoins_used[i]=new_coin\n",
        "\n",
        "\tif dp[change]>change:\n",
        "\t\t#無解的情況，初始化的時候設置dp[change]=change+1\n",
        "\t\treturn -1\n",
        "\telse:\n",
        "\t\treturn dp[change]\n",
        "def used_coins(change,used_coins):\n",
        "\t'''利用used_coins求解使用的錢幣'''\n",
        "\tre=[]\n",
        "\twhile change:\n",
        "\t\t#dp[i]=dp[i-coins[j]]+1    used_coins[change]=coins[j]\n",
        "\t\ttmp=used_coins[change]\n",
        "\t\tre.append(tmp)\n",
        "\t\tchange-=tmp\n",
        "\treturn re\n",
        "\n",
        "if __name__=='__main__':\n",
        "\t#初始化\n",
        "\tcoins=[25,20,5,1]\n",
        "\tchange=int(input(\"要付多少錢呢？\"))\n",
        "\tdp=[change+1]*(change+1)\n",
        "\tdp[0]=0\n",
        "\tcoins_used=[0]*(change+1)\n",
        "\n",
        "\tre=coin_change(coins,change,dp,coins_used)\n",
        "\tre_coins=used_coins(change,coins_used)\n",
        "\tprint(\"找零\",change,\"元最少需要\",re,\"張錢幣,分別是\",re_coins)"
      ],
      "execution_count": null,
      "outputs": [
        {
          "output_type": "stream",
          "text": [
            "要付多少錢呢？67\n",
            "找零 67 元最少需要 5 張錢幣,分別是 [25, 20, 20, 1, 1]\n"
          ],
          "name": "stdout"
        }
      ]
    },
    {
      "cell_type": "markdown",
      "metadata": {
        "id": "i7SYWLBaVHYJ"
      },
      "source": [
        "**偷東西問題：貪婪法**"
      ]
    },
    {
      "cell_type": "code",
      "metadata": {
        "colab": {
          "base_uri": "https://localhost:8080/"
        },
        "id": "mDKDwKF8VUhA",
        "outputId": "3b0fd13e-3643-4603-e5ee-fbd6344bc170"
      },
      "source": [
        "bag = 0 #包包重\n",
        "sell = [\"PS5\",\"iPad pro 12\",\"Macbook pro 15\",\"HomePod\",\"Mac mini\"]  #品名\n",
        "weight = [5,1,4,3,2]  #重量\n",
        "value = [17000,35000,60000,9000,20000]  #價值\n",
        "money = 0 #拿了的價值\n",
        "i = 1\n",
        "while bag < 10: #重量要小於10\n",
        "  indexaa = value.index(max(value)) #找到最貴的商品的index\n",
        "  bag += weight[indexaa]  #放進包包\n",
        "  if bag<=10:\n",
        "    money += value[indexaa] #包包的價值\n",
        "    print(\"第\",i,\"次\",\"拿了\",'{:>15}'.format(sell[value.index(max(value))]),\"價值\",value[value.index(max(value))],\"元\")\n",
        "    #將此最貴商品移除陣列\n",
        "    weight.remove(weight[indexaa])\n",
        "    value.remove(value[indexaa])\n",
        "    sell.remove(sell[indexaa])\n",
        "    i+=1\n",
        "  else:\n",
        "    #將此最貴商品移除陣列，但因若選取會超過10公斤所以不選\n",
        "    bag -= weight[indexaa]  #拿出包包\n",
        "    weight.remove(weight[indexaa])\n",
        "    value.remove(value[indexaa])\n",
        "    sell.remove(sell[indexaa])\n",
        "print(\"共價值\",money,\"元\")"
      ],
      "execution_count": 5,
      "outputs": [
        {
          "output_type": "stream",
          "text": [
            "第 1 次 拿了  Macbook pro 15 價值 60000 元\n",
            "第 2 次 拿了     iPad pro 12 價值 35000 元\n",
            "第 3 次 拿了        Mac mini 價值 20000 元\n",
            "第 4 次 拿了         HomePod 價值 9000 元\n",
            "共價值 124000 元\n"
          ],
          "name": "stdout"
        }
      ]
    },
    {
      "cell_type": "markdown",
      "metadata": {
        "id": "XorBpXISfbMU"
      },
      "source": [
        "**偷東西問題：DP**"
      ]
    },
    {
      "cell_type": "code",
      "metadata": {
        "colab": {
          "base_uri": "https://localhost:8080/"
        },
        "id": "gZEOcr0MfkOZ",
        "outputId": "d5ef8730-4c1b-4a85-f3b7-aa2b425f552f"
      },
      "source": [
        "def knapSack(W, wt, val, n): \n",
        "  K = [[0 for x in range(W + 1)] for x in range(n + 1)] \n",
        "\n",
        "  for i in range(n + 1): \n",
        "    for w in range(W + 1): \n",
        "      if i == 0 or w == 0: \n",
        "        K[i][w] = 0\n",
        "      elif wt[i-1] <= w: \n",
        "        K[i][w] = max(val[i-1] + K[i-1][w-wt[i-1]],  K[i-1][w])\n",
        "      else: \n",
        "        K[i][w] = K[i-1][w]\n",
        "    print(\"第\",i+1,\"次篩選：\",\"目前價值\",K[i][w])\n",
        "  return K[n][W]\n",
        "sell = [\"PS5\",\"iPad pro 12\",\"Macbook pro 15\",\"HomePod\",\"Mac mini\"]\n",
        "val = [17000,35000,60000,9000,20000] \n",
        "wt = [5,1,4,3,2] \n",
        "W = 10\n",
        "n = len(val) \n",
        "print(\"最佳拿法價值\",knapSack(W, wt, val, n)) "
      ],
      "execution_count": 7,
      "outputs": [
        {
          "output_type": "stream",
          "text": [
            "第 1 次篩選： 目前價值 0\n",
            "第 2 次篩選： 目前價值 17000\n",
            "第 3 次篩選： 目前價值 52000\n",
            "第 4 次篩選： 目前價值 112000\n",
            "第 5 次篩選： 目前價值 112000\n",
            "第 6 次篩選： 目前價值 124000\n",
            "最佳拿法價值 124000\n"
          ],
          "name": "stdout"
        }
      ]
    }
  ]
}