{
  "nbformat": 4,
  "nbformat_minor": 0,
  "metadata": {
    "colab": {
      "name": "password.ipynb",
      "provenance": [],
      "authorship_tag": "ABX9TyPrKTFHzslihPtXwpeRSnGC",
      "include_colab_link": true
    },
    "kernelspec": {
      "name": "python3",
      "display_name": "Python 3"
    }
  },
  "cells": [
    {
      "cell_type": "markdown",
      "metadata": {
        "id": "view-in-github",
        "colab_type": "text"
      },
      "source": [
        "<a href=\"https://colab.research.google.com/github/jack945dd/algorithm/blob/master/password.ipynb\" target=\"_parent\"><img src=\"https://colab.research.google.com/assets/colab-badge.svg\" alt=\"Open In Colab\"/></a>"
      ]
    },
    {
      "cell_type": "code",
      "metadata": {
        "id": "ZKTvL5eGEcht",
        "outputId": "3b69a009-f703-45d4-fbd3-4667c4bdccda",
        "colab": {
          "base_uri": "https://localhost:8080/"
        }
      },
      "source": [
        "from random import randint\n",
        "\n",
        "l = 1\n",
        "h = 100\n",
        "a = randint(l,h)\n",
        "\n",
        "while True:\n",
        "  aa = int(input(\"密碼介於\"+str(l)+\"-\"+str(h)+\":\\n\"))\n",
        "  if (aa>=h or aa<=l):\n",
        "    print(\"輸入要介於上下限內，請重新輸入。\")\n",
        "    continue\n",
        "  elif (aa>a):\n",
        "    h=aa\n",
        "  elif (aa<a):\n",
        "    l=aa\n",
        "  elif (aa==a):\n",
        "    print(\"答對了!\")\n",
        "    break"
      ],
      "execution_count": 7,
      "outputs": [
        {
          "output_type": "stream",
          "text": [
            "密碼介於1-100:\n",
            "50\n",
            "密碼介於50-100:\n",
            "55555\n",
            "輸入要介於上下限內，請重新輸入。\n",
            "密碼介於50-100:\n",
            "75\n",
            "密碼介於50-75:\n",
            "67\n",
            "密碼介於50-67:\n",
            "45\n",
            "輸入要介於上下限內，請重新輸入。\n",
            "密碼介於50-67:\n",
            "63\n",
            "密碼介於50-63:\n",
            "55\n",
            "密碼介於55-63:\n",
            "57\n",
            "密碼介於57-63:\n",
            "59\n",
            "密碼介於59-63:\n",
            "62\n",
            "密碼介於59-62:\n",
            "60\n",
            "密碼介於60-62:\n",
            "61\n",
            "答對了!\n"
          ],
          "name": "stdout"
        }
      ]
    }
  ]
}