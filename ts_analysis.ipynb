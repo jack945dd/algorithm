{
  "nbformat": 4,
  "nbformat_minor": 0,
  "metadata": {
    "colab": {
      "name": "ts_analysis.ipynb",
      "provenance": [],
      "authorship_tag": "ABX9TyNY06Md3u5D1im70lRQHUEO",
      "include_colab_link": true
    },
    "kernelspec": {
      "name": "python3",
      "display_name": "Python 3"
    }
  },
  "cells": [
    {
      "cell_type": "markdown",
      "metadata": {
        "id": "view-in-github",
        "colab_type": "text"
      },
      "source": [
        "<a href=\"https://colab.research.google.com/github/jack945dd/algorithm/blob/master/ts_analysis.ipynb\" target=\"_parent\"><img src=\"https://colab.research.google.com/assets/colab-badge.svg\" alt=\"Open In Colab\"/></a>"
      ]
    },
    {
      "cell_type": "markdown",
      "metadata": {
        "id": "BxvBpy0y5s8j"
      },
      "source": [
        "**例如:如何判斷某年是不是閏年?**"
      ]
    },
    {
      "cell_type": "markdown",
      "metadata": {
        "id": "RPuBSa0-6YDx"
      },
      "source": [
        "方法一:相比起第二種來說很明顯非常節省空間,但每一次查詢都需要經過一系列的計算才能知道是否為閏年。"
      ]
    },
    {
      "cell_type": "code",
      "metadata": {
        "id": "fKE-KNlk6ipv",
        "outputId": "0f57b567-8d0f-4db2-8d04-122b260b1b55",
        "colab": {
          "base_uri": "https://localhost:8080/"
        }
      },
      "source": [
        "year = int(input(\"請輸入年分:\"))\n",
        "if (year % 4) == 0:\n",
        "   if (year % 100) == 0:\n",
        "       if (year % 400) == 0:\n",
        "           print(str(year)+\"是閏年\")\n",
        "       else:\n",
        "           print(str(year)+\"不是閏年\")\n",
        "   else:\n",
        "       print(str(year)+\"是閏年\")\n",
        "else:\n",
        "   print(str(year)+\"不是閏年\")"
      ],
      "execution_count": 22,
      "outputs": [
        {
          "output_type": "stream",
          "text": [
            "請輸入年分:2020\n",
            "2020是閏年\n"
          ],
          "name": "stdout"
        }
      ]
    },
    {
      "cell_type": "markdown",
      "metadata": {
        "id": "siB1Rm049_2S"
      },
      "source": [
        "方法二:第二種方法雖然需要在記憶體裡儲存所有年份的陣列,但是每次查詢只需要一次索引判斷即可。"
      ]
    },
    {
      "cell_type": "code",
      "metadata": {
        "id": "5swtGbOj-Mw3",
        "outputId": "26818813-e9e1-45bd-954f-e7744844c2d4",
        "colab": {
          "base_uri": "https://localhost:8080/"
        }
      },
      "source": [
        "a=[] #建立空串列\n",
        "for year in range(2000,2041): #使用迴圈在記憶體裡儲存所有年份的陣列\n",
        "  if (year % 4) == 0:\n",
        "   if (year % 100) == 0:\n",
        "       if (year % 400) == 0:\n",
        "           a.append(year)\n",
        "   else:\n",
        "       a.append(year)\n",
        "myyear = int(input(\"請輸入年分:\"))\n",
        "if myyear in a:   #輸入你要進行判斷的年份進行索引判斷\n",
        "  print(str(myyear)+\"是閏年\")\n",
        "else:\n",
        "  print(str(myyear)+\"不是閏年\")"
      ],
      "execution_count": 21,
      "outputs": [
        {
          "output_type": "stream",
          "text": [
            "請輸入年分:2020\n",
            "2020是閏年\n"
          ],
          "name": "stdout"
        }
      ]
    }
  ]
}