{
  "nbformat": 4,
  "nbformat_minor": 0,
  "metadata": {
    "colab": {
      "name": "HashingSearch.ipynb",
      "provenance": [],
      "authorship_tag": "ABX9TyMaMxNW/0pZaeIEb79Sy/19",
      "include_colab_link": true
    },
    "kernelspec": {
      "name": "python3",
      "display_name": "Python 3"
    }
  },
  "cells": [
    {
      "cell_type": "markdown",
      "metadata": {
        "id": "view-in-github",
        "colab_type": "text"
      },
      "source": [
        "<a href=\"https://colab.research.google.com/github/jack945dd/algorithm/blob/master/HashingSearch.ipynb\" target=\"_parent\"><img src=\"https://colab.research.google.com/assets/colab-badge.svg\" alt=\"Open In Colab\"/></a>"
      ]
    },
    {
      "cell_type": "markdown",
      "metadata": {
        "id": "LJJpNVj0GroK"
      },
      "source": [
        "**1.雜湊法_線性探測法**\n",
        "\n"
      ]
    },
    {
      "cell_type": "code",
      "metadata": {
        "id": "XlrAD48jBWRR",
        "outputId": "c707f7f3-9d1c-449f-8a83-7350ece29de3",
        "colab": {
          "base_uri": "https://localhost:8080/",
          "height": 221
        }
      },
      "source": [
        "import random\n",
        "\n",
        "INDEXBOX=10     #雜湊表最大元素\n",
        "MAXNUM=7      #最大資料個數\n",
        "\n",
        "def print_data(data,max_number):  #列印陣列副程式\n",
        "  print('\\t',end='')\n",
        "  for i in range(max_number):\n",
        "    print('[%2d]'%data[i],end='')\n",
        "  print()\n",
        "\n",
        "def create_table(num,index):  #建立雜湊表副程式\n",
        "  tmp=num%INDEXBOX  #雜湊函數=資料%INDEXBOX\n",
        "  while True:\n",
        "    if index[tmp]==-1:  #如果資料對應的位置是空的\n",
        "      index[tmp]=num  #則直接存入資料\n",
        "      break\n",
        "    else:\n",
        "      tmp=(tmp+1)%INDEXBOX  #否則往後找位置存放\n",
        "\n",
        "#Main\n",
        "index=[None]*INDEXBOX\n",
        "data=[None]*MAXNUM\n",
        "\n",
        "print(\"原始陣列值：\")\n",
        "for i in range(MAXNUM): #起始資料值\n",
        "  data[i]=random.randint(1,20)\n",
        "for i in range(INDEXBOX): #清除雜湊表\n",
        "  index[i]=-1\n",
        "print_data(data,MAXNUM) #列印起始資料\n",
        "\n",
        "print(\"雜湊表內容：\")\n",
        "for i in range(MAXNUM): #建立雜湊表\n",
        "  create_table(data[i],index)\n",
        "  print(\" %2d =>\" %data[i],end=\"\")  #列印單一元素的雜湊表位置\n",
        "  print_data(index,INDEXBOX)\n",
        "\n",
        "print(\"完成雜湊表：\")\n",
        "print_data(index,INDEXBOX)  #列印最後完成結果"
      ],
      "execution_count": null,
      "outputs": [
        {
          "output_type": "stream",
          "text": [
            "原始陣列值：\n",
            "\t[13][ 4][12][10][13][11][ 6]\n",
            "雜湊表內容：\n",
            " 13 =>\t[-1][-1][-1][13][-1][-1][-1][-1][-1][-1]\n",
            "  4 =>\t[-1][-1][-1][13][ 4][-1][-1][-1][-1][-1]\n",
            " 12 =>\t[-1][-1][12][13][ 4][-1][-1][-1][-1][-1]\n",
            " 10 =>\t[10][-1][12][13][ 4][-1][-1][-1][-1][-1]\n",
            " 13 =>\t[10][-1][12][13][ 4][13][-1][-1][-1][-1]\n",
            " 11 =>\t[10][11][12][13][ 4][13][-1][-1][-1][-1]\n",
            "  6 =>\t[10][11][12][13][ 4][13][ 6][-1][-1][-1]\n",
            "完成雜湊表：\n",
            "\t[10][11][12][13][ 4][13][ 6][-1][-1][-1]\n"
          ],
          "name": "stdout"
        }
      ]
    },
    {
      "cell_type": "markdown",
      "metadata": {
        "id": "_9dwdjQKG5wC"
      },
      "source": [
        "**2.雜湊法_平方法**"
      ]
    },
    {
      "cell_type": "code",
      "metadata": {
        "id": "cF7plzf-HdEy",
        "outputId": "e1b471b2-cddf-4bd6-be59-6227cfb7260b",
        "colab": {
          "base_uri": "https://localhost:8080/",
          "height": 221
        }
      },
      "source": [
        "import random\n",
        "\n",
        "INDEXBOX=10     #雜湊表最大元素\n",
        "MAXNUM=7      #最大資料個數\n",
        "\n",
        "def print_data(data,max_number):  #列印陣列副程式\n",
        "  print('\\t',end='')\n",
        "  for i in range(max_number):\n",
        "    print('[%2d]'%data[i],end='')\n",
        "  print()\n",
        "\n",
        "def create_table(num,index):  #建立雜湊表副程式\n",
        "  tmp=num%INDEXBOX  #雜湊函數=資料%INDEXBOX\n",
        "  a=1                                  #★平方初始值\n",
        "  while True:\n",
        "    if index[tmp]==-1:  #如果資料對應的位置是空的\n",
        "      index[tmp]=num  #則直接存入資料\n",
        "      break\n",
        "    else:\n",
        "      tmp=(tmp+a*a)%INDEXBOX  #否則往後找位置存放         #★+1改+a*a\n",
        "      a=a+1                             #★平方根+1\n",
        "\n",
        "#Main\n",
        "index=[None]*INDEXBOX\n",
        "data=[None]*MAXNUM\n",
        "\n",
        "print(\"原始陣列值：\")\n",
        "for i in range(MAXNUM): #起始資料值\n",
        "  data[i]=random.randint(1,20)\n",
        "for i in range(INDEXBOX): #清除雜湊表\n",
        "  index[i]=-1\n",
        "print_data(data,MAXNUM) #列印起始資料\n",
        "\n",
        "print(\"雜湊表內容：\")\n",
        "for i in range(MAXNUM): #建立雜湊表\n",
        "  create_table(data[i],index)\n",
        "  print(\" %2d =>\" %data[i],end=\"\")  #列印單一元素的雜湊表位置\n",
        "  print_data(index,INDEXBOX)\n",
        "\n",
        "print(\"完成雜湊表：\")\n",
        "print_data(index,INDEXBOX)  #列印最後完成結果"
      ],
      "execution_count": null,
      "outputs": [
        {
          "output_type": "stream",
          "text": [
            "原始陣列值：\n",
            "\t[ 4][19][16][10][20][14][19]\n",
            "雜湊表內容：\n",
            "  4 =>\t[-1][-1][-1][-1][ 4][-1][-1][-1][-1][-1]\n",
            " 19 =>\t[-1][-1][-1][-1][ 4][-1][-1][-1][-1][19]\n",
            " 16 =>\t[-1][-1][-1][-1][ 4][-1][16][-1][-1][19]\n",
            " 10 =>\t[10][-1][-1][-1][ 4][-1][16][-1][-1][19]\n",
            " 20 =>\t[10][20][-1][-1][ 4][-1][16][-1][-1][19]\n",
            " 14 =>\t[10][20][-1][-1][ 4][14][16][-1][-1][19]\n",
            " 19 =>\t[10][20][-1][19][ 4][14][16][-1][-1][19]\n",
            "完成雜湊表：\n",
            "\t[10][20][-1][19][ 4][14][16][-1][-1][19]\n"
          ],
          "name": "stdout"
        }
      ]
    },
    {
      "cell_type": "markdown",
      "metadata": {
        "id": "kgX3knKDJzMW"
      },
      "source": [
        "**3.雜湊法_再雜湊法**"
      ]
    },
    {
      "cell_type": "code",
      "metadata": {
        "id": "pvwcp4yWKSo1",
        "outputId": "c967b093-208e-447e-c7a0-1a8697882572",
        "colab": {
          "base_uri": "https://localhost:8080/",
          "height": 221
        }
      },
      "source": [
        "import random\n",
        "\n",
        "INDEXBOX=10     #雜湊表最大元素\n",
        "MAXNUM=7      #最大資料個數\n",
        "\n",
        "def print_data(data,max_number):  #列印陣列副程式\n",
        "  print('\\t',end='')\n",
        "  for i in range(max_number):\n",
        "    print('[%2d]'%data[i],end='')\n",
        "  print()\n",
        "\n",
        "def create_table(num,index):  #建立雜湊表副程式\n",
        "  tmp=num%INDEXBOX  #雜湊函數=資料%INDEXBOX\n",
        "  a=1                                  #★平方初始值\n",
        "  while True:\n",
        "    if index[tmp]==-1:  #如果資料對應的位置是空的\n",
        "      index[tmp]=num  #則直接存入資料\n",
        "      break\n",
        "    else:\n",
        "      tmp=(tmp+3*a)%INDEXBOX  #否則往後找位置存放   #★+1改+3a\n",
        "      a=a+1                             #★a+1\n",
        "\n",
        "#Main\n",
        "index=[None]*INDEXBOX\n",
        "data=[None]*MAXNUM\n",
        "\n",
        "print(\"原始陣列值：\")\n",
        "for i in range(MAXNUM): #起始資料值\n",
        "  data[i]=random.randint(1,20)\n",
        "for i in range(INDEXBOX): #清除雜湊表\n",
        "  index[i]=-1\n",
        "print_data(data,MAXNUM) #列印起始資料\n",
        "\n",
        "print(\"雜湊表內容：\")\n",
        "for i in range(MAXNUM): #建立雜湊表\n",
        "  create_table(data[i],index)\n",
        "  print(\" %2d =>\" %data[i],end=\"\")  #列印單一元素的雜湊表位置\n",
        "  print_data(index,INDEXBOX)\n",
        "\n",
        "print(\"完成雜湊表：\")\n",
        "print_data(index,INDEXBOX)  #列印最後完成結果"
      ],
      "execution_count": null,
      "outputs": [
        {
          "output_type": "stream",
          "text": [
            "原始陣列值：\n",
            "\t[13][ 8][ 1][ 9][ 4][12][ 7]\n",
            "雜湊表內容：\n",
            " 13 =>\t[-1][-1][-1][13][-1][-1][-1][-1][-1][-1]\n",
            "  8 =>\t[-1][-1][-1][13][-1][-1][-1][-1][ 8][-1]\n",
            "  1 =>\t[-1][ 1][-1][13][-1][-1][-1][-1][ 8][-1]\n",
            "  9 =>\t[-1][ 1][-1][13][-1][-1][-1][-1][ 8][ 9]\n",
            "  4 =>\t[-1][ 1][-1][13][ 4][-1][-1][-1][ 8][ 9]\n",
            " 12 =>\t[-1][ 1][12][13][ 4][-1][-1][-1][ 8][ 9]\n",
            "  7 =>\t[-1][ 1][12][13][ 4][-1][-1][ 7][ 8][ 9]\n",
            "完成雜湊表：\n",
            "\t[-1][ 1][12][13][ 4][-1][-1][ 7][ 8][ 9]\n"
          ],
          "name": "stdout"
        }
      ]
    }
  ]
}