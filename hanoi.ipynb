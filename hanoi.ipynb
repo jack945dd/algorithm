{
  "nbformat": 4,
  "nbformat_minor": 0,
  "metadata": {
    "colab": {
      "name": "hanoi.ipynb",
      "provenance": [],
      "authorship_tag": "ABX9TyMWoyQzSJyRIbcvc4INKgZW",
      "include_colab_link": true
    },
    "kernelspec": {
      "name": "python3",
      "display_name": "Python 3"
    }
  },
  "cells": [
    {
      "cell_type": "markdown",
      "metadata": {
        "id": "view-in-github",
        "colab_type": "text"
      },
      "source": [
        "<a href=\"https://colab.research.google.com/github/jack945dd/algorithm/blob/master/hanoi.ipynb\" target=\"_parent\"><img src=\"https://colab.research.google.com/assets/colab-badge.svg\" alt=\"Open In Colab\"/></a>"
      ]
    },
    {
      "cell_type": "code",
      "metadata": {
        "id": "RYTPUTelKNeD",
        "outputId": "7c7c5d78-54a2-4739-e6b3-cd9b508a033f",
        "colab": {
          "base_uri": "https://localhost:8080/"
        }
      },
      "source": [
        "x=1\n",
        "def hanoi(n,a,b,c):\n",
        "  global x\n",
        "  if n==1:\n",
        "    print(a,\" --> \",c,\"執行次數:\",x)\n",
        "    x+=1\n",
        "  else:\n",
        "    hanoi(n-1,a,c,b)\n",
        "    hanoi(1,a,b,c)\n",
        "    hanoi(n-1,b,a,c)\n",
        "hanoi(5,'A','B','C')"
      ],
      "execution_count": 19,
      "outputs": [
        {
          "output_type": "stream",
          "text": [
            "A  -->  C 執行次數: 1\n",
            "A  -->  B 執行次數: 2\n",
            "C  -->  B 執行次數: 3\n",
            "A  -->  C 執行次數: 4\n",
            "B  -->  A 執行次數: 5\n",
            "B  -->  C 執行次數: 6\n",
            "A  -->  C 執行次數: 7\n",
            "A  -->  B 執行次數: 8\n",
            "C  -->  B 執行次數: 9\n",
            "C  -->  A 執行次數: 10\n",
            "B  -->  A 執行次數: 11\n",
            "C  -->  B 執行次數: 12\n",
            "A  -->  C 執行次數: 13\n",
            "A  -->  B 執行次數: 14\n",
            "C  -->  B 執行次數: 15\n",
            "A  -->  C 執行次數: 16\n",
            "B  -->  A 執行次數: 17\n",
            "B  -->  C 執行次數: 18\n",
            "A  -->  C 執行次數: 19\n",
            "B  -->  A 執行次數: 20\n",
            "C  -->  B 執行次數: 21\n",
            "C  -->  A 執行次數: 22\n",
            "B  -->  A 執行次數: 23\n",
            "B  -->  C 執行次數: 24\n",
            "A  -->  C 執行次數: 25\n",
            "A  -->  B 執行次數: 26\n",
            "C  -->  B 執行次數: 27\n",
            "A  -->  C 執行次數: 28\n",
            "B  -->  A 執行次數: 29\n",
            "B  -->  C 執行次數: 30\n",
            "A  -->  C 執行次數: 31\n"
          ],
          "name": "stdout"
        }
      ]
    }
  ]
}