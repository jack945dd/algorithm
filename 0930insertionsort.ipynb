{
  "nbformat": 4,
  "nbformat_minor": 0,
  "metadata": {
    "colab": {
      "name": "0930insertionsort.ipynb",
      "provenance": [],
      "collapsed_sections": [],
      "include_colab_link": true
    },
    "kernelspec": {
      "name": "python3",
      "display_name": "Python 3"
    }
  },
  "cells": [
    {
      "cell_type": "markdown",
      "metadata": {
        "id": "view-in-github",
        "colab_type": "text"
      },
      "source": [
        "<a href=\"https://colab.research.google.com/github/jack945dd/algorithm/blob/master/0930insertionsort.ipynb\" target=\"_parent\"><img src=\"https://colab.research.google.com/assets/colab-badge.svg\" alt=\"Open In Colab\"/></a>"
      ]
    },
    {
      "cell_type": "markdown",
      "metadata": {
        "id": "j95w6SLwOC0z"
      },
      "source": [
        "Insertion sort (插入排序)"
      ]
    },
    {
      "cell_type": "code",
      "metadata": {
        "id": "BxBaYEwzNj_v",
        "outputId": "ad2ceaf4-d9a8-4340-f9fc-9cb8ec1e902e",
        "colab": {
          "base_uri": "https://localhost:8080/",
          "height": 312
        }
      },
      "source": [
        "\n",
        "def Insertion_Sort(datas):\n",
        "    for i in range(1, len(datas)):  #(n-1+1)\n",
        "        for j in range(i):  #{[1+2+3+4+......+n]+1} = {[n(n+1)/2]+1} (等差公式)\n",
        "            current = datas[i]  #{[n(n+1)/2]}\n",
        "            if current < datas[j]:  #0\n",
        "                for k in range(i,j):  #{[0 +1+ 1+2+ 1+2+3+ 1+2+3+4 +1+2+3+4+5+ 1+2+3+4+5+6+ +......+1加到n-1]}={[(n-1)*(n)*(n+1)/6] (http://www.mathland.idv.tw/fun/seriesadd.htm 的公式)\n",
        "                  print(datas)  #0\n",
        "    return datas  #1\n",
        "  #total=略 =>O(n^3)\n",
        "\n",
        "def insertionSort(arr):\n",
        "    for i in range(len(arr)): #(n+1)\n",
        "        preIndex = i-1  #(n)\n",
        "        current = arr[i]  #(n)\n",
        "        while preIndex >= 0 and arr[preIndex] > current:  #\n",
        "            arr[preIndex+1] = arr[preIndex] #\n",
        "            preIndex-=1 #\n",
        "        arr[preIndex+1] = current #(n)\n",
        "        print(arr)  #(n)\n",
        "    return arr  #1\n",
        "    #total=略 =>O(n)\n",
        "\n",
        "if __name__ == '__main__':\n",
        "    import random\n",
        "    a = list(range(16))\n",
        "    random.shuffle(a)\n",
        "    b = a.copy()\n",
        "\n",
        "    arr = insertionSort(a)\n",
        "    print('---'*16)\n",
        "    Insertion_Sort(b)"
      ],
      "execution_count": null,
      "outputs": [
        {
          "output_type": "stream",
          "text": [
            "[13, 1, 12, 5, 0, 6, 15, 7, 11, 4, 2, 9, 8, 10, 3, 14]\n",
            "[1, 13, 12, 5, 0, 6, 15, 7, 11, 4, 2, 9, 8, 10, 3, 14]\n",
            "[1, 12, 13, 5, 0, 6, 15, 7, 11, 4, 2, 9, 8, 10, 3, 14]\n",
            "[1, 5, 12, 13, 0, 6, 15, 7, 11, 4, 2, 9, 8, 10, 3, 14]\n",
            "[0, 1, 5, 12, 13, 6, 15, 7, 11, 4, 2, 9, 8, 10, 3, 14]\n",
            "[0, 1, 5, 6, 12, 13, 15, 7, 11, 4, 2, 9, 8, 10, 3, 14]\n",
            "[0, 1, 5, 6, 12, 13, 15, 7, 11, 4, 2, 9, 8, 10, 3, 14]\n",
            "[0, 1, 5, 6, 7, 12, 13, 15, 11, 4, 2, 9, 8, 10, 3, 14]\n",
            "[0, 1, 5, 6, 7, 11, 12, 13, 15, 4, 2, 9, 8, 10, 3, 14]\n",
            "[0, 1, 4, 5, 6, 7, 11, 12, 13, 15, 2, 9, 8, 10, 3, 14]\n",
            "[0, 1, 2, 4, 5, 6, 7, 11, 12, 13, 15, 9, 8, 10, 3, 14]\n",
            "[0, 1, 2, 4, 5, 6, 7, 9, 11, 12, 13, 15, 8, 10, 3, 14]\n",
            "[0, 1, 2, 4, 5, 6, 7, 8, 9, 11, 12, 13, 15, 10, 3, 14]\n",
            "[0, 1, 2, 4, 5, 6, 7, 8, 9, 10, 11, 12, 13, 15, 3, 14]\n",
            "[0, 1, 2, 3, 4, 5, 6, 7, 8, 9, 10, 11, 12, 13, 15, 14]\n",
            "[0, 1, 2, 3, 4, 5, 6, 7, 8, 9, 10, 11, 12, 13, 14, 15]\n",
            "------------------------------------------------\n"
          ],
          "name": "stdout"
        }
      ]
    }
  ]
}