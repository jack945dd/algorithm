{
  "nbformat": 4,
  "nbformat_minor": 0,
  "metadata": {
    "colab": {
      "name": "1118期中考.ipynb",
      "provenance": [],
      "collapsed_sections": [],
      "authorship_tag": "ABX9TyOLdX3zvVkzIpr/oUtYDJyj",
      "include_colab_link": true
    },
    "kernelspec": {
      "name": "python3",
      "display_name": "Python 3"
    }
  },
  "cells": [
    {
      "cell_type": "markdown",
      "metadata": {
        "id": "view-in-github",
        "colab_type": "text"
      },
      "source": [
        "<a href=\"https://colab.research.google.com/github/jack945dd/algorithm/blob/master/1118%E6%9C%9F%E4%B8%AD%E8%80%83.ipynb\" target=\"_parent\"><img src=\"https://colab.research.google.com/assets/colab-badge.svg\" alt=\"Open In Colab\"/></a>"
      ]
    },
    {
      "cell_type": "markdown",
      "metadata": {
        "id": "oBCrTrcyW7xa"
      },
      "source": [
        "**1.選擇排序法(⼤到⼩)**"
      ]
    },
    {
      "cell_type": "code",
      "metadata": {
        "colab": {
          "base_uri": "https://localhost:8080/"
        },
        "id": "E234bWDSTKzK",
        "outputId": "8b910b89-7a23-4534-e670-47e346ecabb8"
      },
      "source": [
        "import random\n",
        "\n",
        "#選擇排序法\n",
        "def Selection_Sort(nn):\n",
        "  #進行排序規則，共進行(數字數量)次\n",
        "  for i in range(len(nn)):\n",
        "    MaxNum = nn[i]#暫存最大值，預設值是還沒比較的數列的第一個數字\n",
        "    k = i#k代表要交換的索引位置，預設是還沒比較的數列的第一個數字的索引\n",
        "    #進行比較規則\n",
        "    for j in range(i,len(nn)):\n",
        "      #暫存最大值與尚未排序的數列值進行比較，若未排序的數列值更大則更新暫存最大值\n",
        "      if nn[j] > MaxNum:\n",
        "        MaxNum = nn[j]#更新暫存最大值\n",
        "        k=j#更新要交換的索引位置\n",
        "    nn[i],nn[k] = nn[k],nn[i]#數字交換位置\n",
        "    print('第', i+1, '次排序:', nn)\n",
        "\n",
        "#建立隨機數字串列，範圍限制0-99\n",
        "numberlist = []\n",
        "for i in range(0,8):\n",
        "  numberlist.append(random.randint(0,99))\n",
        "\n",
        "print(\"原始數列:\",numberlist,\"\\n\")\n",
        "\n",
        "Selection_Sort(numberlist)"
      ],
      "execution_count": 170,
      "outputs": [
        {
          "output_type": "stream",
          "text": [
            "原始數列: [82, 13, 68, 65, 55, 40, 61, 41] \n",
            "\n",
            "第 1 次排序: [82, 13, 68, 65, 55, 40, 61, 41]\n",
            "第 2 次排序: [82, 68, 13, 65, 55, 40, 61, 41]\n",
            "第 3 次排序: [82, 68, 65, 13, 55, 40, 61, 41]\n",
            "第 4 次排序: [82, 68, 65, 61, 55, 40, 13, 41]\n",
            "第 5 次排序: [82, 68, 65, 61, 55, 40, 13, 41]\n",
            "第 6 次排序: [82, 68, 65, 61, 55, 41, 13, 40]\n",
            "第 7 次排序: [82, 68, 65, 61, 55, 41, 40, 13]\n",
            "第 8 次排序: [82, 68, 65, 61, 55, 41, 40, 13]\n"
          ],
          "name": "stdout"
        }
      ]
    },
    {
      "cell_type": "markdown",
      "metadata": {
        "id": "hA2hrUznivDA"
      },
      "source": [
        "**2.插入排序法(⼩到⼤)**"
      ]
    },
    {
      "cell_type": "code",
      "metadata": {
        "colab": {
          "base_uri": "https://localhost:8080/"
        },
        "id": "ZLZD4w2eTbNw",
        "outputId": "318dc2d7-9bae-4716-dd62-577550ac8bae"
      },
      "source": [
        "import random\n",
        "\n",
        "#插入排序法\n",
        "def Insertion_Sort(nn):\n",
        "  #進行排序規則，共進行(數字數量)次\n",
        "  for i in range(len(nn)):\n",
        "    #進行比較規則\n",
        "    for j in range(i,0,-1):\n",
        "      #將左邊數來第n個值插入到正確位置的步驟\n",
        "      if (nn[j]<nn[j-1]):\n",
        "        nn[j],nn[j-1] = nn[j-1],nn[j]#數字交換位置，一步一步往左推向正確位置\n",
        "    print('第', i+1, '次排序:', nn)\n",
        "\n",
        "#建立隨機數字串列，範圍限制0-99\n",
        "numberlist = []\n",
        "for i in range(0,8):\n",
        "  numberlist.append(random.randint(0,99))\n",
        "\n",
        "print(\"原始數列:\",numberlist,\"\\n\")\n",
        "\n",
        "Insertion_Sort(numberlist)"
      ],
      "execution_count": null,
      "outputs": [
        {
          "output_type": "stream",
          "text": [
            "原始數列: [81, 6, 66, 39, 7, 15, 65, 80] \n",
            "\n",
            "第 1 次排序: [81, 6, 66, 39, 7, 15, 65, 80]\n",
            "第 2 次排序: [6, 81, 66, 39, 7, 15, 65, 80]\n",
            "第 3 次排序: [6, 66, 81, 39, 7, 15, 65, 80]\n",
            "第 4 次排序: [6, 39, 66, 81, 7, 15, 65, 80]\n",
            "第 5 次排序: [6, 7, 39, 66, 81, 15, 65, 80]\n",
            "第 6 次排序: [6, 7, 15, 39, 66, 81, 65, 80]\n",
            "第 7 次排序: [6, 7, 15, 39, 65, 66, 81, 80]\n",
            "第 8 次排序: [6, 7, 15, 39, 65, 66, 80, 81]\n"
          ],
          "name": "stdout"
        }
      ]
    },
    {
      "cell_type": "markdown",
      "metadata": {
        "id": "f_G1DEipwM5H"
      },
      "source": [
        "**心得:\n",
        "思考演算法進行的邏輯好累，有時候腦袋會忽然亂掉出現一堆邏輯上的BUG，還好最後都有成功想出來~~**"
      ]
    }
  ]
}