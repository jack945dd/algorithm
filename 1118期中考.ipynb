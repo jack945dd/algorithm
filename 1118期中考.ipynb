{
  "nbformat": 4,
  "nbformat_minor": 0,
  "metadata": {
    "colab": {
      "name": "1118期中考.ipynb",
      "provenance": [],
      "collapsed_sections": [],
      "authorship_tag": "ABX9TyPwwiMTN/T/ViK5Nb+UuEVU",
      "include_colab_link": true
    },
    "kernelspec": {
      "name": "python3",
      "display_name": "Python 3"
    }
  },
  "cells": [
    {
      "cell_type": "markdown",
      "metadata": {
        "id": "view-in-github",
        "colab_type": "text"
      },
      "source": [
        "<a href=\"https://colab.research.google.com/github/jack945dd/algorithm/blob/master/1118%E6%9C%9F%E4%B8%AD%E8%80%83.ipynb\" target=\"_parent\"><img src=\"https://colab.research.google.com/assets/colab-badge.svg\" alt=\"Open In Colab\"/></a>"
      ]
    },
    {
      "cell_type": "markdown",
      "metadata": {
        "id": "oBCrTrcyW7xa"
      },
      "source": [
        "**1.選擇排序法(⼤到⼩)**"
      ]
    },
    {
      "cell_type": "code",
      "metadata": {
        "colab": {
          "base_uri": "https://localhost:8080/"
        },
        "id": "E234bWDSTKzK",
        "outputId": "a16904a2-cf86-41a0-d4af-3007ae609711"
      },
      "source": [
        "import random\n",
        "\n",
        "#選擇排序法\n",
        "def Selection_Sort(nn):\n",
        "  #進行排序規則，共進行(數字數量-1)次\n",
        "  for i in range(len(nn)-1):\n",
        "    MaxNum = nn[i]#暫存最大值，預設值是還沒比較的數列的第一個\n",
        "    #進行比較規則\n",
        "    for j in range(i,len(nn)):\n",
        "      #暫存最大值與尚未排序的數列值進行比較，若未排序的數列值更大則取代數列位置以及更新暫存最大值\n",
        "      if nn[j] > MaxNum:\n",
        "        MaxNum = nn[j]#更新暫存最大值\n",
        "        nn[i],nn[j] = nn[j],nn[i]#取代數列位置\n",
        "    print('第', i+1, '次排序:', nn)\n",
        "\n",
        "#建立隨機數字串列，範圍限制0-99\n",
        "numberlist = []\n",
        "for i in range(0,8):\n",
        "  numberlist.append(random.randint(0,99))\n",
        "\n",
        "print(\"原始數列:\",numberlist,\"\\n\")\n",
        "\n",
        "Selection_Sort(numberlist)"
      ],
      "execution_count": 54,
      "outputs": [
        {
          "output_type": "stream",
          "text": [
            "原始數列: [72, 31, 32, 85, 70, 81, 88, 73] \n",
            "\n",
            "第 1 次排序: [88, 31, 32, 72, 70, 81, 85, 73]\n",
            "第 2 次排序: [88, 85, 31, 32, 70, 72, 81, 73]\n",
            "第 3 次排序: [88, 85, 81, 31, 32, 70, 72, 73]\n",
            "第 4 次排序: [88, 85, 81, 73, 31, 32, 70, 72]\n",
            "第 5 次排序: [88, 85, 81, 73, 72, 31, 32, 70]\n",
            "第 6 次排序: [88, 85, 81, 73, 72, 70, 31, 32]\n",
            "第 7 次排序: [88, 85, 81, 73, 72, 70, 32, 31]\n"
          ],
          "name": "stdout"
        }
      ]
    },
    {
      "cell_type": "markdown",
      "metadata": {
        "id": "hA2hrUznivDA"
      },
      "source": [
        "**2.插入排序法(⼩到⼤)**"
      ]
    },
    {
      "cell_type": "code",
      "metadata": {
        "colab": {
          "base_uri": "https://localhost:8080/"
        },
        "id": "ZLZD4w2eTbNw",
        "outputId": "3ab8487f-2c77-4ded-b34e-67d50b2c274b"
      },
      "source": [
        "import random\n",
        "\n",
        "#插入排序法\n",
        "def Insertion_Sort(nn):\n",
        "  #進行排序規則，共進行(數字數量-1)次\n",
        "  for i in range(len(nn)-1):\n",
        "    #第二次到(數字數量-1)次的排序，在這裡進行\n",
        "    if (i != 0):\n",
        "      #進行比較規則\n",
        "      for j in range(i):\n",
        "        #如果正要被插的數nn[i]比nn[j]小，就插左邊\n",
        "        if (nn[i]<nn[j]):\n",
        "          nn[i],nn[j] = nn[j],nn[i]\n",
        "        #如果正要被插的數nn[i]比它左邊的所有數字都大，那位置不移動，結束這次排序\n",
        "        else:\n",
        "          continue\n",
        "      print('第', i+1, '次排序:', nn)\n",
        "    #第一次排序方式是拿出第一個，所以對數列來說值不變，故數列不用動作，在這裡進行\n",
        "    else:\n",
        "      print('第', i+1, '次排序:', nn)\n",
        "\n",
        "#建立隨機數字串列，範圍限制0-99\n",
        "numberlist = []\n",
        "for i in range(0,8):\n",
        "  numberlist.append(random.randint(0,99))\n",
        "\n",
        "print(\"原始數列:\",numberlist,\"\\n\")\n",
        "\n",
        "Insertion_Sort(numberlist)"
      ],
      "execution_count": 91,
      "outputs": [
        {
          "output_type": "stream",
          "text": [
            "原始數列: [80, 60, 67, 35, 14, 64, 80, 83] \n",
            "\n",
            "第 1 次排序: [80, 60, 67, 35, 14, 64, 80, 83]\n",
            "第 2 次排序: [60, 80, 67, 35, 14, 64, 80, 83]\n",
            "第 3 次排序: [60, 67, 80, 35, 14, 64, 80, 83]\n",
            "第 4 次排序: [35, 60, 67, 80, 14, 64, 80, 83]\n",
            "第 5 次排序: [14, 35, 60, 67, 80, 64, 80, 83]\n",
            "第 6 次排序: [14, 35, 60, 64, 67, 80, 80, 83]\n",
            "第 7 次排序: [14, 35, 60, 64, 67, 80, 80, 83]\n"
          ],
          "name": "stdout"
        }
      ]
    },
    {
      "cell_type": "markdown",
      "metadata": {
        "id": "f_G1DEipwM5H"
      },
      "source": [
        "**心得:\n",
        "思考演算法進行的邏輯好累，有時候腦袋會忽然亂掉出現一堆邏輯上的BUG，還好最後都有成功想出來~~**"
      ]
    }
  ]
}