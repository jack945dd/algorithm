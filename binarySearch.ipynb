{
  "nbformat": 4,
  "nbformat_minor": 0,
  "metadata": {
    "colab": {
      "name": "binarySearch.ipynb",
      "provenance": [],
      "collapsed_sections": [],
      "authorship_tag": "ABX9TyPvgOaMIx5Cs5M/HIpdWKaM",
      "include_colab_link": true
    },
    "kernelspec": {
      "name": "python3",
      "display_name": "Python 3"
    }
  },
  "cells": [
    {
      "cell_type": "markdown",
      "metadata": {
        "id": "view-in-github",
        "colab_type": "text"
      },
      "source": [
        "<a href=\"https://colab.research.google.com/github/jack945dd/algorithm/blob/master/binarySearch.ipynb\" target=\"_parent\"><img src=\"https://colab.research.google.com/assets/colab-badge.svg\" alt=\"Open In Colab\"/></a>"
      ]
    },
    {
      "cell_type": "code",
      "metadata": {
        "id": "wbAXOal62NZi",
        "outputId": "5dbc5748-9a65-4d38-b74a-32e70e98c3f6",
        "colab": {
          "base_uri": "https://localhost:8080/",
          "height": 34
        }
      },
      "source": [
        "def binarySearch (arr,l,r,x):\n",
        "\n",
        "  if r >=l:\n",
        "    mid = l + (r - l) //2\n",
        "\n",
        "    if arr[mid] == x:\n",
        "      return mid\n",
        "\n",
        "    elif arr[mid] > x:\n",
        "      return binarySearch(arr, l, mid-1, x)\n",
        "    else:\n",
        "      return binarySearch(arr, mid+1, r, x)\n",
        "\n",
        "  else:\n",
        "    return -1\n",
        "\n",
        "arr = [ 5 ,8 ,9, 15, 30 ]\n",
        "x = 9\n",
        "#Function call\n",
        "result = binarySearch(arr, 0, len(arr)-1, x)\n",
        "\n",
        "if result != -1:\n",
        "  print (\"元素在所引 % d\"% result)\n",
        "else:\n",
        "  print (\"陣列中找不到該元素\")"
      ],
      "execution_count": 20,
      "outputs": [
        {
          "output_type": "stream",
          "text": [
            "元素在所引  2\n"
          ],
          "name": "stdout"
        }
      ]
    },
    {
      "cell_type": "code",
      "metadata": {
        "id": "XvesGppF_l8O",
        "outputId": "0daba54b-443a-4de2-951b-7b99fb9492f2",
        "colab": {
          "base_uri": "https://localhost:8080/",
          "height": 204
        }
      },
      "source": [
        "def binarySearch (arr,l,r,x):\n",
        "\n",
        "  if r >=l:\n",
        "    mid = l + (r - l) //2\n",
        "\n",
        "    if arr[mid] == x:\n",
        "      return mid\n",
        "\n",
        "    elif arr[mid] > x:\n",
        "      return binarySearch(arr, l, mid-1, x)\n",
        "    else:\n",
        "      return binarySearch(arr, mid+1, r, x)\n",
        "\n",
        "  else:\n",
        "    return -1\n",
        "\n",
        "def Bubble_Sort(datas):#氣泡排序\n",
        "    for i in range(1, len(datas)): # \n",
        "        for j in range(len(datas)-i):   # \n",
        "            if datas[j] > datas[j+1]:   # \n",
        "                datas[j], datas[j+1] = datas[j+1], datas[j]\n",
        "    return datas\n",
        "\n",
        "arr = []\n",
        "for i in range(0,5):\n",
        "  arr.append(int(input()))#1.輸入的值，5個值(測資)\n",
        "\n",
        "print(\"排前\")\n",
        "print(arr)\n",
        "\n",
        "arr = Bubble_Sort(arr)\n",
        "\n",
        "print(\"排後\")\n",
        "print(arr)#2.排序後的結果\n",
        "\n",
        "print(\"要搜尋的key value\")\n",
        "x = 9 #3.要搜尋的key value\n",
        "\n",
        "#Function call\n",
        "result = binarySearch(arr, 0, len(arr)-1, x)\n",
        "\n",
        "#4.二元搜尋的結果+索引位置\n",
        "if result != -1:\n",
        "  print (\"元素在所引 % d\"% result)\n",
        "else:\n",
        "  print (\"陣列中找不到該元素\")"
      ],
      "execution_count": 36,
      "outputs": [
        {
          "output_type": "stream",
          "text": [
            "3\n",
            "2\n",
            "4\n",
            "1\n",
            "5\n",
            "排前\n",
            "[3, 2, 4, 1, 5]\n",
            "排後\n",
            "[1, 2, 3, 4, 5]\n",
            "要搜尋的key value\n",
            "陣列中找不到該元素\n"
          ],
          "name": "stdout"
        }
      ]
    }
  ]
}